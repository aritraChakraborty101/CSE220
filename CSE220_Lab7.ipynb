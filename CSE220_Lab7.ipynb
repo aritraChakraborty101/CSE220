{
  "nbformat": 4,
  "nbformat_minor": 0,
  "metadata": {
    "colab": {
      "provenance": []
    },
    "kernelspec": {
      "name": "python3",
      "display_name": "Python 3"
    },
    "language_info": {
      "name": "python"
    }
  },
  "cells": [
    {
      "cell_type": "code",
      "execution_count": 7,
      "metadata": {
        "colab": {
          "base_uri": "https://localhost:8080/"
        },
        "id": "IkmlwuQNgtv8",
        "outputId": "8354eeb2-0117-4d65-95f8-565f08c4e369"
      },
      "outputs": [
        {
          "output_type": "stream",
          "name": "stdout",
          "text": [
            "[-7, -6, -5, -1, -1, -1, 0, 1, 2, 5, 10, 11, 13, 15, 17, 18, 19, 20, 25, 27]\n",
            "True\n"
          ]
        }
      ],
      "source": [
        "\n",
        "class KeyIndex:\n",
        "    def __init__(self, a):\n",
        "        \n",
        "        if min(a) < 0:\n",
        "            self.x = abs(min(a))\n",
        "            self.k = [None] * (max(a)+1+self.x)\n",
        "        else:\n",
        "            self.x = 0\n",
        "            self.k = [None] * (max(a)+1)\n",
        "        for i in range(len(a)):\n",
        "            if self.k[a[i]+self.x] == None:\n",
        "                self.k[a[i]+self.x] = 1\n",
        "            else:\n",
        "                self.k[a[i]+self.x] += 1\n",
        "\n",
        "    def search(self, val):\n",
        "        if val > len(self.k):\n",
        "            return False\n",
        "        else:\n",
        "            if self.k[val+self.x] != None:\n",
        "                return True\n",
        "            else:\n",
        "                return False\n",
        "\n",
        "    def sort(self):\n",
        "        new = []\n",
        "        for i in range(len(self.k)):\n",
        "            if self.k[i] != None:\n",
        "                for j in range(self.k[i]):\n",
        "                    new.append(i-self.x)\n",
        "        return new\n",
        "\n",
        "\n",
        "array = [27, 13, 2, 5, 17, -7, -5, 18, 20, 19, 11, 1, -1, 10, 15, 25, 0, -1, -6, -1]\n",
        "key_idx_search = KeyIndex(array)\n",
        "print(key_idx_search.sort())\n",
        "print(key_idx_search.search(20))\n",
        "\n"
      ]
    },
    {
      "cell_type": "code",
      "source": [
        "array = ['ST1E89B8A32', 'lP6Dmq9jT', '9u65a8Hz8', 'FcXUyLKhJ', 'b3I3dAiYF', '66ce1jcH4', 'TJjgi9feb', 'TuU8gYHkd', 'IQLGzaUYR']\n",
        "hash_table = [None] * len(array)\n",
        "\n",
        "for i in range(len(array)):\n",
        "    consonants = 0\n",
        "    numbers = 0\n",
        "    for char in array[i]:\n",
        "        if char in \"bcdfghjklmnpqrstvwxyzBCDFGHJKLMNPQRSTVWXYZ\":\n",
        "            consonants += 1\n",
        "        elif char in \"0123456789\":\n",
        "            numbers += int(char)\n",
        "    index = (24 * consonants + numbers) % 9\n",
        "\n",
        "    if hash_table[index % len(array)] == None:\n",
        "        hash_table[index % len(array)] = array[i]\n",
        "    else:\n",
        "        for i in range(len(array)):\n",
        "            if hash_table[(i+index)%len(array)] == None:\n",
        "                hash_table[(i+index) % len(array)] = array[i]\n",
        "print(hash_table)"
      ],
      "metadata": {
        "colab": {
          "base_uri": "https://localhost:8080/"
        },
        "id": "2EEsdnNTuq8h",
        "outputId": "500470f1-e750-4c6b-f6fb-01cf0d65cdc6"
      },
      "execution_count": 8,
      "outputs": [
        {
          "output_type": "stream",
          "name": "stdout",
          "text": [
            "['TJjgi9feb', 'TuU8gYHkd', 'IQLGzaUYR', 'lP6Dmq9jT', 'ST1E89B8A32', '9u65a8Hz8', 'FcXUyLKhJ', 'b3I3dAiYF', '66ce1jcH4']\n"
          ]
        }
      ]
    }
  ]
}