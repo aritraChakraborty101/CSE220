{
  "nbformat": 4,
  "nbformat_minor": 0,
  "metadata": {
    "colab": {
      "provenance": []
    },
    "kernelspec": {
      "name": "python3",
      "display_name": "Python 3"
    },
    "language_info": {
      "name": "python"
    }
  },
  "cells": [
    {
      "cell_type": "code",
      "execution_count": null,
      "metadata": {
        "colab": {
          "base_uri": "https://localhost:8080/"
        },
        "id": "ioYgOurfdmas",
        "outputId": "9ebf8fff-ad8d-4ee0-b60e-bb104aa59337"
      },
      "outputs": [
        {
          "output_type": "stream",
          "name": "stdout",
          "text": [
            "120\n"
          ]
        }
      ],
      "source": [
        "#1\n",
        "\n",
        "#Implement a recursive algorithm to find factorial of n.\n",
        "def factorial(n):\n",
        "  if n == 0:\n",
        "        return 1\n",
        "  else:\n",
        "        return n* factorial(n-1)\n",
        "print(factorial(5))\n"
      ]
    },
    {
      "cell_type": "code",
      "source": [
        "#Implement a recursive algorithm to find the n-th Fibonacci number.\n",
        "def fibonacci(n):\n",
        "    if n == 1:\n",
        "        return 0\n",
        "    if n == 2:\n",
        "        return 1\n",
        "    else:\n",
        "        return fibonacci(n-1) + fibonacci(n-2)\n",
        "print(fibonacci(5))"
      ],
      "metadata": {
        "colab": {
          "base_uri": "https://localhost:8080/"
        },
        "id": "UzWppwjzfWQw",
        "outputId": "b04202e8-1464-46be-b3d2-9b075afcd57a"
      },
      "execution_count": null,
      "outputs": [
        {
          "output_type": "stream",
          "name": "stdout",
          "text": [
            "3\n"
          ]
        }
      ]
    },
    {
      "cell_type": "code",
      "source": [
        "#Print all the elements of a given array recursively.\n",
        "inp = [1, 2, 3, 4]\n",
        "length = len(inp)\n",
        "start_idx = 0\n",
        "\n",
        "def print_all(arr, length, start):\n",
        "    if length <= start:\n",
        "        return   \n",
        "    print(arr[start], end = \" \")\n",
        "    print_all(arr, length, start+1)\n",
        "\n",
        "print_all(inp, length, start_idx)\n",
        "    "
      ],
      "metadata": {
        "colab": {
          "base_uri": "https://localhost:8080/"
        },
        "id": "WNUg4NWRgDi-",
        "outputId": "f1f78228-baef-4d58-ca8e-0a80f150f38f"
      },
      "execution_count": null,
      "outputs": [
        {
          "output_type": "stream",
          "name": "stdout",
          "text": [
            "1 2 3 4 "
          ]
        }
      ]
    },
    {
      "cell_type": "code",
      "source": [
        "#Given base and n that are both 1 or more, compute recursively \n",
        "#(no loops) the value of base  to the n power,\n",
        "# so powerN(3, 2) is 9 (3 squared)\n",
        "\n",
        "def cal_power(num, pow):\n",
        "    if pow == 0:\n",
        "        return 1\n",
        "    else:\n",
        "        return num * cal_power(num,pow-1)\n",
        "num = 3\n",
        "power = 3\n",
        "\n",
        "print(cal_power(num, power))"
      ],
      "metadata": {
        "colab": {
          "base_uri": "https://localhost:8080/"
        },
        "id": "5z23fB2HhwR-",
        "outputId": "b96ced6d-aeaf-474b-a353-40caa8de66ba"
      },
      "execution_count": null,
      "outputs": [
        {
          "output_type": "stream",
          "name": "stdout",
          "text": [
            "27\n"
          ]
        }
      ]
    },
    {
      "cell_type": "code",
      "source": [
        "def dec_to_bin(n):\n",
        "  if n == 0:\n",
        "    return \"0\"\n",
        "  elif n == 1:\n",
        "    return \"1\"\n",
        "  else:\n",
        "    return dec_to_bin(n//2) + str(n%2)\n",
        "\n",
        "print(dec_to_bin(3))"
      ],
      "metadata": {
        "id": "WB573rJhjMUa",
        "colab": {
          "base_uri": "https://localhost:8080/"
        },
        "outputId": "ac523e92-33ec-4f53-e625-ba81f739368f"
      },
      "execution_count": 6,
      "outputs": [
        {
          "output_type": "stream",
          "name": "stdout",
          "text": [
            "11\n"
          ]
        }
      ]
    },
    {
      "cell_type": "code",
      "source": [
        "class Node:\n",
        "    def __init__(self, value, next):\n",
        "        self.value = value\n",
        "        self.next = next\n",
        "\n",
        "n3 = Node(3, None)\n",
        "n2 = Node(4, n3)\n",
        "n1 = Node(2, n2)\n",
        "\n",
        "def calculate_sum(head):\n",
        "    if head.next == None:\n",
        "        return head.value\n",
        "    else:\n",
        "        return head.value + calculate_sum(head.next)\n",
        "print(calculate_sum(n1))"
      ],
      "metadata": {
        "colab": {
          "base_uri": "https://localhost:8080/"
        },
        "id": "VgzN1auFleg6",
        "outputId": "09c88590-387f-410f-935f-4057f9c2241a"
      },
      "execution_count": null,
      "outputs": [
        {
          "output_type": "stream",
          "name": "stdout",
          "text": [
            "9\n"
          ]
        }
      ]
    },
    {
      "cell_type": "code",
      "source": [
        "class Node:\n",
        "    def __init__(self, value, next):\n",
        "        self.value = value\n",
        "        self.next = next\n",
        "\n",
        "n3 = Node(3, None)\n",
        "n2 = Node(4, n3)\n",
        "n1 = Node(2, n2)\n",
        "\n",
        "def rev_print(head):\n",
        "    if head == None:\n",
        "        return\n",
        "    else:\n",
        "        rev_print(head.next)\n",
        "        print(head.value, end = \" \")\n",
        "\n",
        "rev_print(n1)\n",
        "        "
      ],
      "metadata": {
        "colab": {
          "base_uri": "https://localhost:8080/"
        },
        "id": "cLIO1g50mWAv",
        "outputId": "f2d578d0-60eb-4538-cd4a-9c6f146d1e03"
      },
      "execution_count": null,
      "outputs": [
        {
          "output_type": "stream",
          "name": "stdout",
          "text": [
            "3 4 2 "
          ]
        }
      ]
    },
    {
      "cell_type": "code",
      "source": [
        "def hoc(height):\n",
        "  if height == 0:\n",
        "    return 0\n",
        "  elif height == 1:\n",
        "    return 8\n",
        "  else:\n",
        "    return 5 + hoc(height-1)\n",
        "\n",
        "hoc(5)"
      ],
      "metadata": {
        "colab": {
          "base_uri": "https://localhost:8080/"
        },
        "id": "vRGXP4qZxCDa",
        "outputId": "811970df-ef24-426a-dd3a-39bb6d8767c6"
      },
      "execution_count": 4,
      "outputs": [
        {
          "output_type": "execute_result",
          "data": {
            "text/plain": [
              "28"
            ]
          },
          "metadata": {},
          "execution_count": 4
        }
      ]
    },
    {
      "cell_type": "code",
      "source": [
        "#4 a\n",
        "\n",
        "def printLine(n):\n",
        "    if n == 0:\n",
        "        return \n",
        "    else:\n",
        "        printLine(n - 1)\n",
        "        print(n, end = \" \")\n",
        "\n",
        "def printPattern(n):\n",
        "    if n == 0:\n",
        "        return \n",
        "    else:\n",
        "\n",
        "        printPattern(n - 1)\n",
        "        printLine(n)\n",
        "        print()\n",
        "\n",
        "printPattern(5)"
      ],
      "metadata": {
        "colab": {
          "base_uri": "https://localhost:8080/"
        },
        "id": "5RDXaoVUqy-B",
        "outputId": "bab09e99-fa4a-4817-8629-aa7e62377bcb"
      },
      "execution_count": null,
      "outputs": [
        {
          "output_type": "stream",
          "name": "stdout",
          "text": [
            "1 \n",
            "1 2 \n",
            "1 2 3 \n",
            "1 2 3 4 \n",
            "1 2 3 4 5 \n"
          ]
        }
      ]
    },
    {
      "cell_type": "code",
      "source": [
        "def pattern_from_right(space, maxspace = None, i = 1):\n",
        "    if maxspace == None:\n",
        "        maxspace = space\n",
        "    if space == 0:\n",
        "        return\n",
        "    if i == 1:\n",
        "        pattern_from_right(space - 1, maxspace)\n",
        "        print(\" \" * (maxspace - space), end=\"\")\n",
        "    print(i, end = \"\")\n",
        "    if i == space:\n",
        "        print()\n",
        "        return\n",
        "    pattern_from_right(space, maxspace, i + 1)\n",
        "\n",
        "pattern_from_right(5)"
      ],
      "metadata": {
        "colab": {
          "base_uri": "https://localhost:8080/"
        },
        "id": "Lf3YOV-ywQVl",
        "outputId": "d33afb3d-0c14-47c3-e54c-d0af61ca1bc8"
      },
      "execution_count": 7,
      "outputs": [
        {
          "output_type": "stream",
          "name": "stdout",
          "text": [
            "    1\n",
            "   12\n",
            "  123\n",
            " 1234\n",
            "12345\n"
          ]
        }
      ]
    },
    {
      "cell_type": "code",
      "source": [
        "class FinalQ:\n",
        "  def print(self,array,idx):\n",
        "    if idx < len(array):\n",
        "      profit = self.calcProfit(array[idx])\n",
        "      print(\"{}. Investment: {}; Profit: {}\".format(idx+1, array[idx], profit))\n",
        "      self.print(array, idx + 1)\n",
        "    else:\n",
        "        return\n",
        "\n",
        "  def calcProfit(self,investment):\n",
        "    if investment % 100 != 0:\n",
        "      return 0.0\n",
        "    if investment < 25001:\n",
        "      return 0.0\n",
        "    if investment <= 100000:\n",
        "      return 45 + float(self.calcProfit(investment - 1000))\n",
        "    elif investment > 100000:\n",
        "      return 80 + float(self.calcProfit(investment - 1000))\n",
        "\n",
        "array= [25000,100000,250000,350000]\n",
        "final= FinalQ()\n",
        "final.print(array,0)"
      ],
      "metadata": {
        "colab": {
          "base_uri": "https://localhost:8080/"
        },
        "id": "jDngeUeVwoES",
        "outputId": "46429991-091b-44ec-9f87-336c3ba72ded"
      },
      "execution_count": 8,
      "outputs": [
        {
          "output_type": "stream",
          "name": "stdout",
          "text": [
            "1. Investment: 25000; Profit: 0.0\n",
            "2. Investment: 100000; Profit: 3375.0\n",
            "3. Investment: 250000; Profit: 15375.0\n",
            "4. Investment: 350000; Profit: 23375.0\n"
          ]
        }
      ]
    }
  ]
}