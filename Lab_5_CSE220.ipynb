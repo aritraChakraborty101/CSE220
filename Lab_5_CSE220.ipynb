{
  "nbformat": 4,
  "nbformat_minor": 0,
  "metadata": {
    "colab": {
      "provenance": []
    },
    "kernelspec": {
      "name": "python3",
      "display_name": "Python 3"
    },
    "language_info": {
      "name": "python"
    }
  },
  "cells": [
    {
      "cell_type": "code",
      "execution_count": 28,
      "metadata": {
        "colab": {
          "base_uri": "https://localhost:8080/"
        },
        "id": "Jet1ARICXSw0",
        "outputId": "6c986d00-e95a-40fe-c5d6-faa15f82d186"
      },
      "outputs": [
        {
          "output_type": "stream",
          "name": "stdout",
          "text": [
            "1+2*[3*3+{4–5(6(7/8/9)+10)–11+(12*8)]+14\n",
            "Error at character # 10. { not closed.\n"
          ]
        }
      ],
      "source": [
        "class ArrayStack:\n",
        "  def __init__(self, length):\n",
        "    self.length = length\n",
        "    self.stack = [None] * length\n",
        "    self.head_index = -1\n",
        "\n",
        "  def push(self, element):\n",
        "    if self.head_index == self.length - 1:\n",
        "      print(\"Stack overflow, can not push more elements.\")\n",
        "    else:\n",
        "      self.head_index += 1\n",
        "      self.stack[self.head_index] = element\n",
        "  \n",
        "  def pop(self):\n",
        "    if self.head_index == -1:\n",
        "      return None\n",
        "    else:\n",
        "      popped = self.stack[self.head_index]\n",
        "      self.head_index -= 1\n",
        "      return popped\n",
        "  def peek(self):\n",
        "    if self.head_index == -1:\n",
        "      return None\n",
        "    return self.stack[self.head_index]\n",
        "\n",
        "correct = True\n",
        "opening = [\"(\", \"{\", \"[\"]\n",
        "closing = [\")\", \"}\", \"]\"]\n",
        "\n",
        "def match(open, close):\n",
        "  if open == opening[0] and close == \")\":\n",
        "    return True\n",
        "  elif open == opening[1] and close == \"}\":\n",
        "    return True\n",
        "  elif open == opening[2] and close == \"]\":\n",
        "    return True\n",
        "  else:\n",
        "    return False\n",
        "\n",
        "inp = input()\n",
        "stack = ArrayStack(len(inp))\n",
        "index = ArrayStack(len(inp))\n",
        "for i in range(len(inp)):\n",
        "  char = inp[i]\n",
        "  if char in opening:\n",
        "    stack.push(char)\n",
        "    index.push(i)\n",
        "  elif char in closing:\n",
        "    popped = stack.pop()\n",
        "    popped_index = index.pop()\n",
        "    if popped != None:\n",
        "      if not match(popped, char):\n",
        "        correct = False\n",
        "        break\n",
        "    else:\n",
        "      correct = False\n",
        "      break\n",
        "\n",
        "if correct and stack.peek() == None:\n",
        "  print(\"This expression is correct.\")\n",
        "else:\n",
        "  if stack.peek() == None:\n",
        "    print(f\"Error at character # {i+1}. {char}- not opened.\")\n",
        "  else:\n",
        "    if i == len(inp)-1:\n",
        "      if stack.peek() != None:\n",
        "        correct = False\n",
        "        popped = stack.pop()\n",
        "        popped_index = index.pop()\n",
        "    print(f\"Error at character # {popped_index+1}. {popped} not closed.\")\n"
      ]
    },
    {
      "cell_type": "markdown",
      "source": [],
      "metadata": {
        "id": "-8VkEH9mTiGY"
      }
    },
    {
      "cell_type": "code",
      "source": [
        "class Node:\n",
        "  def __init__(self, value = None):\n",
        "    self.value = value\n",
        "    self.next = None\n",
        "class LLStack:\n",
        "  def __init__(self):\n",
        "    self.head = None\n",
        "  def push (self, element):\n",
        "    if self.head is None:\n",
        "      self.head = Node(element)\n",
        "    else:\n",
        "      node = Node(element)\n",
        "      node.next = self.head\n",
        "      self.head = node\n",
        "  def pop (self):\n",
        "    popped_value = self.head.value\n",
        "    pop = self.head\n",
        "    self.head = self.head.next\n",
        "    pop.next = None\n",
        "    return popped_value\n",
        "  def print(self):\n",
        "    print(self.head.value)\n",
        "    while self.head is not None:\n",
        "      print(self.head.value, end = \" \")\n",
        "      self.head = self.head.next\n",
        "  def peek(self):\n",
        "    if self.head == None:\n",
        "      return None\n",
        "    return self.head.value\n",
        "\n",
        "# Test Case\n",
        "inp = \"1+2*[3*3+{4–5(6(7/8/9)+10)}–11+(12*8)/{13+13}]+14\"\n",
        "\n",
        "correct = True\n",
        "stack = LLStack()\n",
        "index = LLStack()\n",
        "opening = [\"(\", \"{\", \"[\"]\n",
        "closing = [\")\", \"}\", \"]\"]\n",
        "\n",
        "def brackets_match(opening, closing):\n",
        "  if opening == \"(\" and closing == \")\":\n",
        "    return True\n",
        "  elif opening == \"{\" and closing == \"}\":\n",
        "    return True\n",
        "  elif opening == \"[\" and closing == \"]\":\n",
        "    return True\n",
        "  return False\n",
        "\n",
        "#inp = input()\n",
        "\n",
        "for i in range(len(inp)):\n",
        "  char = inp[i]\n",
        "  if char in opening:\n",
        "    stack.push(char)\n",
        "    index.push(i)\n",
        "  elif char in closing:\n",
        "    popped = stack.pop()\n",
        "    popped_index = index.pop()\n",
        "    if popped != None:\n",
        "      if not brackets_match(popped, char):\n",
        "        correct = False\n",
        "        break\n",
        "    else:\n",
        "      correct = False\n",
        "      break\n",
        "\n",
        "if i == len(inp):\n",
        "  if stack.peek() != None:\n",
        "    print(stack.peek())\n",
        "    correct = False\n",
        "\n",
        "if correct and stack.peek() == None:\n",
        "  print(\"This expression is correct.\")\n",
        "else:\n",
        "  if stack.peek() == None:\n",
        "    print(f\"Error at character # {i+1}. {char}- not opened.\")\n",
        "  else:\n",
        "    if i == len(inp)-1:\n",
        "      if stack.peek() != None:\n",
        "        correct = False\n",
        "        popped = stack.pop()\n",
        "        popped_index = index.pop()\n",
        "    print(f\"Error at character # {popped_index+1}. {popped} not closed.\")"
      ],
      "metadata": {
        "colab": {
          "base_uri": "https://localhost:8080/"
        },
        "id": "03-8_VZ5jqVM",
        "outputId": "49266e3e-5b36-4a2d-f09a-97fa67da2ddf"
      },
      "execution_count": 3,
      "outputs": [
        {
          "output_type": "stream",
          "name": "stdout",
          "text": [
            "This expression is correct.\n"
          ]
        }
      ]
    },
    {
      "cell_type": "code",
      "source": [
        "inp = \"1+2*(3/4)\"\n",
        "\n",
        "for i in inp:\n",
        "  print(inp.index(i))"
      ],
      "metadata": {
        "colab": {
          "base_uri": "https://localhost:8080/"
        },
        "id": "KoYLT2gtWqKw",
        "outputId": "d3883ff2-cb75-43e6-c33c-a20bf9b170c4"
      },
      "execution_count": null,
      "outputs": [
        {
          "output_type": "stream",
          "name": "stdout",
          "text": [
            "0\n",
            "1\n",
            "2\n",
            "3\n",
            "4\n",
            "5\n",
            "6\n",
            "7\n",
            "8\n"
          ]
        }
      ]
    }
  ]
}