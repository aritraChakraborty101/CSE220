{
  "nbformat": 4,
  "nbformat_minor": 0,
  "metadata": {
    "colab": {
      "provenance": []
    },
    "kernelspec": {
      "name": "python3",
      "display_name": "Python 3"
    },
    "language_info": {
      "name": "python"
    }
  },
  "cells": [
    {
      "cell_type": "code",
      "execution_count": null,
      "metadata": {
        "id": "WH6ZvRkohoAw"
      },
      "outputs": [],
      "source": [
        "class Key_index:\n",
        "    def __init__(self, a):\n",
        "        self.k = None\n",
        "        self.a = a\n",
        "        self.max = a[0]\n",
        "        self.min = a[0]\n",
        "\n",
        "        for i in range(len(self.a)):\n",
        "            if self.a[i] > self.max:\n",
        "                self.max = self.a[i]\n",
        "            else:\n",
        "                pass\n",
        "\n",
        "            if self.a[i] < self.min:\n",
        "                self.min = self.a[i]\n",
        "            else:\n",
        "                pass\n",
        "\n",
        "        \n",
        "        if self.min < 0:\n",
        "            self.x = -1 * self.min\n",
        "            self.k = [None] * (self.max + 1 + self.x)\n",
        "        else:\n",
        "            self.x = 0\n",
        "            self.k = [None] * (self.max + 1)\n",
        "\n",
        "        \n",
        "\n",
        "\n",
        "        for i in range(len(a)):\n",
        "            if self.k[self.a[i] + self.x] == None:\n",
        "                self.k[self.a[i] + self.x] = 1\n",
        "            else:\n",
        "                self.k[self.a[i] + self.x] += 1\n",
        "\n",
        "\n",
        "\n",
        "    def search(self, value):\n",
        "        if self.k[value + self.x]:\n",
        "            return True\n",
        "        else:\n",
        "            return False\n",
        "    \n",
        "    def sort_arr(self):\n",
        "        result = []\n",
        "\n",
        "        for i in range(len(self.k)):\n",
        "            if self.k[i] != None:\n",
        "                for j in range(self.k[i]):\n",
        "                    if self.x != 0:\n",
        "                        result.append(i - self.x)\n",
        "                    else:\n",
        "                        result.append(i)\n",
        "\n",
        "        return result\n",
        "\n",
        "\n"
      ]
    },
    {
      "cell_type": "code",
      "source": [
        "arr1 = [1,2,1,3,5,8,9,-1,0]\n",
        "\n",
        "KeyIdx = Key_index(arr1)\n",
        "\n",
        "print(KeyIdx.search(2))\n",
        "print(KeyIdx.sort_arr())\n"
      ],
      "metadata": {
        "colab": {
          "base_uri": "https://localhost:8080/"
        },
        "id": "d1RQA0ZCpSxd",
        "outputId": "d1034009-1b80-4ea4-a652-5397389abe43"
      },
      "execution_count": null,
      "outputs": [
        {
          "output_type": "stream",
          "name": "stdout",
          "text": [
            "True\n",
            "[-1, 0, 1, 1, 2, 3, 5, 8, 9]\n"
          ]
        }
      ]
    }
  ]
}